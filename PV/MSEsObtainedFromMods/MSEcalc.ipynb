{
 "cells": [
  {
   "cell_type": "code",
   "execution_count": 24,
   "id": "2b3aaf39",
   "metadata": {},
   "outputs": [],
   "source": [
    "import numpy as np\n",
    "import pandas as pd\n",
    "from pandas.tseries.offsets import Hour, Minute\n",
    "from pandas.tseries.offsets import Day, MonthEnd\n",
    "from pandas.tseries.offsets import Hour"
   ]
  },
  {
   "cell_type": "code",
   "execution_count": 25,
   "id": "6887c921",
   "metadata": {},
   "outputs": [],
   "source": [
    "\n",
    "df1 = pd.read_csv('Naive_errors.csv', index_col=0)\n",
    "df2 = pd.read_csv('acfARIMA_errors_final.csv',index_col=0)\n",
    "df3 = pd.read_csv('autoARIMA_errors_final.csv',index_col=0)\n",
    "df4 = pd.read_csv('LSTM_errors_notscaled.csv',index_col=0)\n",
    "df5 = pd.read_csv('GBDT_errors.csv',index_col=0)\n",
    "df6 = pd.read_csv('LSTM_errors_notscaled_random.csv',index_col=0)\n",
    "df7 = pd.read_csv('GBDT_errors_randomsearch.csv',index_col=0)\n",
    "LSTM_season4 = pd.read_csv('LSTM_errors_scaled_season4.csv',index_col=0)"
   ]
  },
  {
   "cell_type": "code",
   "execution_count": 26,
   "id": "dde50b9b",
   "metadata": {},
   "outputs": [],
   "source": [
    "def computeMSEevery5(df):\n",
    "    \n",
    "    Result = []\n",
    "    for col in df.columns:\n",
    "        \n",
    "        Result.append(df[col].mean())\n",
    "        \n",
    "    Result\n",
    "    \n",
    "    return Result\n",
    "        "
   ]
  },
  {
   "cell_type": "code",
   "execution_count": 27,
   "id": "8630f2e6",
   "metadata": {},
   "outputs": [],
   "source": [
    "def computeSTDevery5(df):\n",
    "    \n",
    "    Result = []\n",
    "    for col in df.columns:\n",
    "        \n",
    "        Result.append(df[col].std())\n",
    "        \n",
    "    Result\n",
    "    \n",
    "    return Result"
   ]
  },
  {
   "cell_type": "code",
   "execution_count": 28,
   "id": "caff45b6",
   "metadata": {},
   "outputs": [],
   "source": [
    "Naive = computeMSEevery5(df1)\n",
    "acf = computeMSEevery5(df2)\n",
    "auto = computeMSEevery5(df3)\n",
    "LSTM = computeMSEevery5(df4)\n",
    "GBDT = computeMSEevery5(df5)\n",
    "LSTM_rand = computeMSEevery5(df6)\n",
    "GBDT_rand = computeMSEevery5(df7)\n",
    "LSTM_s4 = computeMSEevery5(LSTM_season4)"
   ]
  },
  {
   "cell_type": "code",
   "execution_count": 29,
   "id": "131aa83c",
   "metadata": {},
   "outputs": [
    {
     "name": "stdout",
     "output_type": "stream",
     "text": [
      "[16.966240333320624, 3.851532942723831, 3.851532942723831, 8.060414107696444]\n"
     ]
    }
   ],
   "source": [
    "print(Naive)"
   ]
  },
  {
   "cell_type": "code",
   "execution_count": 30,
   "id": "a70e3093",
   "metadata": {},
   "outputs": [
    {
     "name": "stdout",
     "output_type": "stream",
     "text": [
      "[58.44932574104786, 43.77067292916146, 16.282332393527707, 39.854061596166915]\n"
     ]
    }
   ],
   "source": [
    "print(acf)"
   ]
  },
  {
   "cell_type": "code",
   "execution_count": 31,
   "id": "947546be",
   "metadata": {},
   "outputs": [
    {
     "name": "stdout",
     "output_type": "stream",
     "text": [
      "[58.44932574104786, 43.66330530987161, 16.282332393527707, 39.854061596166915]\n"
     ]
    }
   ],
   "source": [
    "print(auto)"
   ]
  },
  {
   "cell_type": "code",
   "execution_count": 32,
   "id": "a873ba86",
   "metadata": {},
   "outputs": [
    {
     "name": "stdout",
     "output_type": "stream",
     "text": [
      "[19.014287748988373, 13.125346742698545, 11.77575344039657, 31.366956085075245]\n"
     ]
    }
   ],
   "source": [
    "print(LSTM)"
   ]
  },
  {
   "cell_type": "code",
   "execution_count": 33,
   "id": "ce4ae416",
   "metadata": {},
   "outputs": [
    {
     "name": "stdout",
     "output_type": "stream",
     "text": [
      "[13.104122987794272]\n"
     ]
    }
   ],
   "source": [
    "print(LSTM_s4)"
   ]
  },
  {
   "cell_type": "code",
   "execution_count": 34,
   "id": "6b5492ff",
   "metadata": {},
   "outputs": [
    {
     "name": "stdout",
     "output_type": "stream",
     "text": [
      "[19.470549634429627, 5.304451799367604, 2.514716321907055, 8.762090947180802]\n"
     ]
    }
   ],
   "source": [
    "print(GBDT)"
   ]
  },
  {
   "cell_type": "code",
   "execution_count": 35,
   "id": "027461b5",
   "metadata": {},
   "outputs": [
    {
     "name": "stdout",
     "output_type": "stream",
     "text": [
      "[16.850289525370094, 4.707602846775492, 4.66991880265833, 9.090623121398975]\n"
     ]
    }
   ],
   "source": [
    "print(LSTM_rand)"
   ]
  },
  {
   "cell_type": "code",
   "execution_count": 36,
   "id": "09023345",
   "metadata": {},
   "outputs": [
    {
     "name": "stdout",
     "output_type": "stream",
     "text": [
      "[15.581833155727896, 3.680316978751385, 2.3930416838428115, 6.66257906697462]\n"
     ]
    }
   ],
   "source": [
    "print(GBDT_rand)"
   ]
  },
  {
   "cell_type": "code",
   "execution_count": 37,
   "id": "9f16517f",
   "metadata": {},
   "outputs": [],
   "source": [
    "LSTM[3] = LSTM_s4[0]"
   ]
  },
  {
   "cell_type": "code",
   "execution_count": 38,
   "id": "c43f946b",
   "metadata": {},
   "outputs": [],
   "source": [
    "d = {'Naive':Naive,'ARIMA ACF':acf,'AUTO-ARIMA':auto,'LSTM':LSTM,'LSTM Random search':LSTM_rand,'GBDT':GBDT,'GBDT Random search':GBDT_rand}\n",
    "\n",
    "df_MSEs = pd.DataFrame({k:pd.Series(v) for k,v in d.items()})\n",
    "df_MSEs['seasons'] = ['season 1', 'season 2', 'season 3', 'season 4']\n",
    "df_MSEs = df_MSEs.set_index('seasons')"
   ]
  },
  {
   "cell_type": "code",
   "execution_count": 39,
   "id": "a5211973",
   "metadata": {},
   "outputs": [
    {
     "data": {
      "text/html": [
       "<div>\n",
       "<style scoped>\n",
       "    .dataframe tbody tr th:only-of-type {\n",
       "        vertical-align: middle;\n",
       "    }\n",
       "\n",
       "    .dataframe tbody tr th {\n",
       "        vertical-align: top;\n",
       "    }\n",
       "\n",
       "    .dataframe thead th {\n",
       "        text-align: right;\n",
       "    }\n",
       "</style>\n",
       "<table border=\"1\" class=\"dataframe\">\n",
       "  <thead>\n",
       "    <tr style=\"text-align: right;\">\n",
       "      <th>seasons</th>\n",
       "      <th>season 1</th>\n",
       "      <th>season 2</th>\n",
       "      <th>season 3</th>\n",
       "      <th>season 4</th>\n",
       "    </tr>\n",
       "  </thead>\n",
       "  <tbody>\n",
       "    <tr>\n",
       "      <th>Naive</th>\n",
       "      <td>16.966240</td>\n",
       "      <td>3.851533</td>\n",
       "      <td>3.851533</td>\n",
       "      <td>8.060414</td>\n",
       "    </tr>\n",
       "    <tr>\n",
       "      <th>ARIMA ACF</th>\n",
       "      <td>58.449326</td>\n",
       "      <td>43.770673</td>\n",
       "      <td>16.282332</td>\n",
       "      <td>39.854062</td>\n",
       "    </tr>\n",
       "    <tr>\n",
       "      <th>AUTO-ARIMA</th>\n",
       "      <td>58.449326</td>\n",
       "      <td>43.663305</td>\n",
       "      <td>16.282332</td>\n",
       "      <td>39.854062</td>\n",
       "    </tr>\n",
       "    <tr>\n",
       "      <th>LSTM</th>\n",
       "      <td>19.014288</td>\n",
       "      <td>13.125347</td>\n",
       "      <td>11.775753</td>\n",
       "      <td>13.104123</td>\n",
       "    </tr>\n",
       "    <tr>\n",
       "      <th>LSTM Random search</th>\n",
       "      <td>16.850290</td>\n",
       "      <td>4.707603</td>\n",
       "      <td>4.669919</td>\n",
       "      <td>9.090623</td>\n",
       "    </tr>\n",
       "    <tr>\n",
       "      <th>GBDT</th>\n",
       "      <td>19.470550</td>\n",
       "      <td>5.304452</td>\n",
       "      <td>2.514716</td>\n",
       "      <td>8.762091</td>\n",
       "    </tr>\n",
       "    <tr>\n",
       "      <th>GBDT Random search</th>\n",
       "      <td>15.581833</td>\n",
       "      <td>3.680317</td>\n",
       "      <td>2.393042</td>\n",
       "      <td>6.662579</td>\n",
       "    </tr>\n",
       "  </tbody>\n",
       "</table>\n",
       "</div>"
      ],
      "text/plain": [
       "seasons              season 1   season 2   season 3   season 4\n",
       "Naive               16.966240   3.851533   3.851533   8.060414\n",
       "ARIMA ACF           58.449326  43.770673  16.282332  39.854062\n",
       "AUTO-ARIMA          58.449326  43.663305  16.282332  39.854062\n",
       "LSTM                19.014288  13.125347  11.775753  13.104123\n",
       "LSTM Random search  16.850290   4.707603   4.669919   9.090623\n",
       "GBDT                19.470550   5.304452   2.514716   8.762091\n",
       "GBDT Random search  15.581833   3.680317   2.393042   6.662579"
      ]
     },
     "execution_count": 39,
     "metadata": {},
     "output_type": "execute_result"
    }
   ],
   "source": [
    "df_MSEs.transpose()"
   ]
  },
  {
   "cell_type": "code",
   "execution_count": 40,
   "id": "bd0422f0",
   "metadata": {},
   "outputs": [],
   "source": [
    "import matplotlib.pyplot as plt\n",
    "plt.style.use('classic')\n",
    "%matplotlib inline\n",
    "import numpy as np\n",
    "import pandas as pd\n"
   ]
  },
  {
   "cell_type": "code",
   "execution_count": null,
   "id": "d143fe45",
   "metadata": {},
   "outputs": [],
   "source": [
    "\n",
    "\n",
    "    \n",
    "        "
   ]
  },
  {
   "cell_type": "code",
   "execution_count": 41,
   "id": "790235ff",
   "metadata": {},
   "outputs": [
    {
     "data": {
      "image/png": "[encoded data removed]",
      "text/plain": [
       "<Figure size 832x584 with 1 Axes>"
      ]
     },
     "metadata": {},
     "output_type": "display_data"
    }
   ],
   "source": [
    "import seaborn as sns\n",
    "sns.set(rc={'figure.figsize':(10.4,7.3)},font_scale=1.25)\n",
    "sns.set_style(\"dark\")\n",
    "#FEF4D9\n",
    "df_MSEs.plot(kind=\"bar\", color = ['#F9E399','#FFC300','#FF911E','#FF5733','#C70039','#8A0B03','#373633'])\n",
    "plt.xticks(rotation=0,horizontalalignment=\"center\")\n",
    "plt.title('PV Model Prediction MSE Means',fontsize=25)\n",
    "plt.xlabel(\"Data Splits\",fontsize=20)\n",
    "plt.ylabel(\"Means of MSEs\",fontsize=20)\n",
    "plt.savefig('PVMSE.png')"
   ]
  },
  {
   "cell_type": "code",
   "execution_count": null,
   "id": "e0e73a8b",
   "metadata": {},
   "outputs": [],
   "source": []
  },
  {
   "cell_type": "code",
   "execution_count": 42,
   "id": "0bd5711a",
   "metadata": {},
   "outputs": [],
   "source": [
    "Naive = computeSTDevery5(df1)\n",
    "acf = computeSTDevery5(df2)\n",
    "auto = computeSTDevery5(df3)\n",
    "LSTM = computeSTDevery5(df4)\n",
    "GBDT = computeSTDevery5(df5)\n",
    "LSTM_rand = computeSTDevery5(df6)\n",
    "GBDT_rand = computeSTDevery5(df7)\n",
    "#Tried to improve season 4\n",
    "LSTM_s4 = computeSTDevery5(LSTM_season4)"
   ]
  },
  {
   "cell_type": "code",
   "execution_count": 43,
   "id": "a248efde",
   "metadata": {},
   "outputs": [],
   "source": [
    "LSTM[3]=LSTM_s4[0]"
   ]
  },
  {
   "cell_type": "code",
   "execution_count": null,
   "id": "aff94f1c",
   "metadata": {},
   "outputs": [],
   "source": []
  },
  {
   "cell_type": "code",
   "execution_count": 44,
   "id": "cf5342e0",
   "metadata": {},
   "outputs": [],
   "source": [
    "d = {'Naive':Naive,'acf':acf,'auto':auto,'LSTM':LSTM,'LSTM_rand':LSTM_rand,'GBDT':GBDT,'GBDT_rand':GBDT_rand}\n",
    "\n",
    "df_MSEs = pd.DataFrame({k:pd.Series(v) for k,v in d.items()})\n",
    "df_MSEs['seasons'] = ['season 1', 'season 2', 'season 3', 'season 4']\n",
    "df_MSEs = df_MSEs.set_index('seasons')"
   ]
  },
  {
   "cell_type": "code",
   "execution_count": 45,
   "id": "107aeb7f",
   "metadata": {},
   "outputs": [
    {
     "data": {
      "text/html": [
       "<div>\n",
       "<style scoped>\n",
       "    .dataframe tbody tr th:only-of-type {\n",
       "        vertical-align: middle;\n",
       "    }\n",
       "\n",
       "    .dataframe tbody tr th {\n",
       "        vertical-align: top;\n",
       "    }\n",
       "\n",
       "    .dataframe thead th {\n",
       "        text-align: right;\n",
       "    }\n",
       "</style>\n",
       "<table border=\"1\" class=\"dataframe\">\n",
       "  <thead>\n",
       "    <tr style=\"text-align: right;\">\n",
       "      <th>seasons</th>\n",
       "      <th>season 1</th>\n",
       "      <th>season 2</th>\n",
       "      <th>season 3</th>\n",
       "      <th>season 4</th>\n",
       "    </tr>\n",
       "  </thead>\n",
       "  <tbody>\n",
       "    <tr>\n",
       "      <th>Naive</th>\n",
       "      <td>68.626453</td>\n",
       "      <td>15.021877</td>\n",
       "      <td>15.021877</td>\n",
       "      <td>33.868318</td>\n",
       "    </tr>\n",
       "    <tr>\n",
       "      <th>acf</th>\n",
       "      <td>123.374073</td>\n",
       "      <td>98.424934</td>\n",
       "      <td>29.447861</td>\n",
       "      <td>77.326622</td>\n",
       "    </tr>\n",
       "    <tr>\n",
       "      <th>auto</th>\n",
       "      <td>123.374073</td>\n",
       "      <td>104.494932</td>\n",
       "      <td>29.447861</td>\n",
       "      <td>77.326622</td>\n",
       "    </tr>\n",
       "    <tr>\n",
       "      <th>LSTM</th>\n",
       "      <td>53.237472</td>\n",
       "      <td>30.993544</td>\n",
       "      <td>23.213447</td>\n",
       "      <td>37.582959</td>\n",
       "    </tr>\n",
       "    <tr>\n",
       "      <th>LSTM_rand</th>\n",
       "      <td>62.975514</td>\n",
       "      <td>14.805874</td>\n",
       "      <td>14.445550</td>\n",
       "      <td>35.369681</td>\n",
       "    </tr>\n",
       "    <tr>\n",
       "      <th>GBDT</th>\n",
       "      <td>55.146986</td>\n",
       "      <td>25.551437</td>\n",
       "      <td>11.691946</td>\n",
       "      <td>35.699156</td>\n",
       "    </tr>\n",
       "    <tr>\n",
       "      <th>GBDT_rand</th>\n",
       "      <td>55.637272</td>\n",
       "      <td>16.300452</td>\n",
       "      <td>11.992422</td>\n",
       "      <td>31.099867</td>\n",
       "    </tr>\n",
       "  </tbody>\n",
       "</table>\n",
       "</div>"
      ],
      "text/plain": [
       "seasons      season 1    season 2   season 3   season 4\n",
       "Naive       68.626453   15.021877  15.021877  33.868318\n",
       "acf        123.374073   98.424934  29.447861  77.326622\n",
       "auto       123.374073  104.494932  29.447861  77.326622\n",
       "LSTM        53.237472   30.993544  23.213447  37.582959\n",
       "LSTM_rand   62.975514   14.805874  14.445550  35.369681\n",
       "GBDT        55.146986   25.551437  11.691946  35.699156\n",
       "GBDT_rand   55.637272   16.300452  11.992422  31.099867"
      ]
     },
     "execution_count": 45,
     "metadata": {},
     "output_type": "execute_result"
    }
   ],
   "source": [
    "df_MSEs.transpose()"
   ]
  },
  {
   "cell_type": "code",
   "execution_count": 22,
   "id": "31bab19d",
   "metadata": {},
   "outputs": [
    {
     "data": {
      "image/png": "[encoded data removed]",
      "text/plain": [
       "<Figure size 832x584 with 1 Axes>"
      ]
     },
     "metadata": {},
     "output_type": "display_data"
    }
   ],
   "source": [
    "sns.set(rc={'figure.figsize':(10.4,7.3)},font_scale=1.25)\n",
    "sns.set_style()\n",
    "\n",
    "df_MSEs.plot(kind=\"bar\", color = ['#F9E399','#FFC300','#FF911E','#FF5733','#C70039','#8A0B03','#373633'])\n",
    "plt.xticks(rotation=0,horizontalalignment=\"center\")\n",
    "plt.title('PV Model Prediction MSE Standard Deviations',fontsize=25)\n",
    "plt.xlabel(\"Data Splits\",fontsize=20)\n",
    "plt.ylabel(\"Standard Deviations of MSEs\",fontsize=20)\n",
    "plt.savefig('PVSD.png')"
   ]
  },
  {
   "cell_type": "code",
   "execution_count": null,
   "id": "317a55ec",
   "metadata": {},
   "outputs": [],
   "source": []
  },
  {
   "cell_type": "code",
   "execution_count": null,
   "id": "a272506d",
   "metadata": {},
   "outputs": [],
   "source": []
  }
 ],
 "metadata": {
  "kernelspec": {
   "display_name": "Python 3 (ipykernel)",
   "language": "python",
   "name": "python3"
  },
  "language_info": {
   "codemirror_mode": {
    "name": "ipython",
    "version": 3
   },
   "file_extension": ".py",
   "mimetype": "text/x-python",
   "name": "python",
   "nbconvert_exporter": "python",
   "pygments_lexer": "ipython3",
   "version": "3.9.0"
  }
 },
 "nbformat": 4,
 "nbformat_minor": 5
}
