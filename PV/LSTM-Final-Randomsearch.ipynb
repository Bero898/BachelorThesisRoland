{
 "cells": [
  {
   "cell_type": "code",
   "execution_count": 1,
   "id": "2ad9cc49",
   "metadata": {},
   "outputs": [],
   "source": [
    "import numpy as np\n",
    "import pandas as pd\n",
    "import keras\n",
    "from pandas.tseries.offsets import Hour, Minute\n",
    "from pandas.tseries.offsets import Day, MonthEnd\n",
    "from pandas.tseries.offsets import Hour\n",
    "from sklearn.model_selection import TimeSeriesSplit\n",
    "from sklearn.preprocessing import MinMaxScaler\n",
    "from sklearn.metrics import mean_squared_error as mse\n",
    "from keras.preprocessing.sequence import TimeseriesGenerator\n",
    "from keras.models import Sequential\n",
    "from keras.layers import Dense\n",
    "from keras.layers import LSTM\n",
    "from keras_tuner.tuners import RandomSearch\n",
    "import keras_tuner\n",
    "from tensorflow.keras.utils import set_random_seed as set_seed\n",
    "set_seed(42)\n"
   ]
  },
  {
   "cell_type": "code",
   "execution_count": 2,
   "id": "08a04266",
   "metadata": {},
   "outputs": [],
   "source": [
    "\n",
    "\n",
    "#df = pd.read_csv('Wind_deseason.csv')\n",
    "df = pd.read_csv('PV_deseason_15.csv', parse_dates=[0], index_col=0)\n"
   ]
  },
  {
   "cell_type": "code",
   "execution_count": 3,
   "id": "c4091b6b",
   "metadata": {},
   "outputs": [],
   "source": [
    "def TrainTest(df):\n",
    "    \n",
    "    num_rows = df.shape[0]\n",
    "    \n",
    "    num_training = (num_rows * 8)//10\n",
    "   \n",
    "    #train = df.iloc[0:num_training]\n",
    "    #test = df.iloc[num_training:num_rows]\n",
    "    \n",
    "    \n",
    "    return num_training \n",
    "        \n",
    "            "
   ]
  },
  {
   "cell_type": "code",
   "execution_count": 4,
   "id": "5dcb4921",
   "metadata": {},
   "outputs": [],
   "source": [
    "def lags(df, n):\n",
    "    \n",
    "    df_new = df\n",
    "    \n",
    "    for i in range(n):\n",
    "        name = \"lag \"+ str(i+1)\n",
    "        df_new[name] = df['310_PV_1'].shift(i+1)\n",
    "    \n",
    "    return df_new"
   ]
  },
  {
   "cell_type": "code",
   "execution_count": 5,
   "id": "4fc32dc1",
   "metadata": {},
   "outputs": [],
   "source": [
    "\n",
    "def model1Train(X,Y):\n",
    "     \n",
    "    mod = Sequential()\n",
    "    mod.add(LSTM(6, activation='sigmoid', input_shape=(107, 1), return_sequences = True))\n",
    "    mod.add(LSTM(6, activation='sigmoid', input_shape=(107, 1), return_sequences = True))\n",
    "    mod.add(LSTM(6, activation='sigmoid', input_shape=(107, 1)))\n",
    "    mod.add(Dense(1))\n",
    "    mod.compile(optimizer='adam', loss='mse', metrics = ['accuracy'])\n",
    "       \n",
    "        \n",
    "   \n",
    "        \n",
    "    mod.fit(x = X, y = Y,epochs=20,verbose = 1)#keep low for now, edit later\n",
    "    \n",
    "    return mod\n",
    "    \n",
    "    \n",
    "    "
   ]
  },
  {
   "cell_type": "code",
   "execution_count": 6,
   "id": "419cba4c",
   "metadata": {},
   "outputs": [],
   "source": [
    "def buildmodel(hp):\n",
    "    mod = Sequential()\n",
    "    mod.add(LSTM(units = hp.Int('units', min_value = 1, max_value = 8, step = 1), activation='sigmoid', input_shape=(107, 1)))\n",
    "    mod.add(Dense(1))\n",
    "    mod.compile(optimizer=keras.optimizers.Adam(hp.Choice('learning rate', values = [0.001, 0.01, 0.1, 0.3, 0.5])), loss='mse', metrics = ['accuracy'])\n",
    "    return mod"
   ]
  },
  {
   "cell_type": "code",
   "execution_count": 7,
   "id": "9d35fc0c",
   "metadata": {},
   "outputs": [],
   "source": [
    "def model2Train(gen):\n",
    "     \n",
    "        \n",
    "\n",
    "    \n",
    "    tuner = keras_tuner.RandomSearch(buildmodel, objective='loss', max_trials=5,overwrite=True, seed = 40)\n",
    "    tuner.search(gen, epochs=3)\n",
    "    best_mod = tuner.get_best_models()[0]\n",
    "    params = tuner.results_summary()\n",
    "    \n",
    "    return best_mod, params\n",
    "    "
   ]
  },
  {
   "cell_type": "code",
   "execution_count": 8,
   "id": "f8a47108",
   "metadata": {},
   "outputs": [],
   "source": [
    "def TestModel(X,test, mod, scaler):\n",
    "    \n",
    "    MSEs = []\n",
    "    \n",
    "    for i in range(len(X)):\n",
    "        array = np.array(X[i])\n",
    "        \n",
    "        pred = mod.predict(array.reshape(1,107,1))\n",
    "        print(pred)\n",
    "        #pred = scaler.inverse_transform(pred)\n",
    "        unscaled_pred = scaler.inverse_transform(pred)\n",
    "        unscaled_test = scaler.inverse_transform([[test[i]]])\n",
    "       \n",
    "        \n",
    "        MSEs.append(mse(unscaled_test[0],unscaled_pred[0]))\n",
    "    return MSEs"
   ]
  },
  {
   "cell_type": "code",
   "execution_count": 9,
   "id": "7ce1d0e2",
   "metadata": {},
   "outputs": [],
   "source": [
    "#def modelNaiveTest(df):\n",
    "\n",
    "    \n",
    "    \n",
    "    \n"
   ]
  },
  {
   "cell_type": "code",
   "execution_count": 10,
   "id": "77388f8e",
   "metadata": {},
   "outputs": [],
   "source": [
    "def runModels(df, last, season):\n",
    "    \n",
    "    scaler = MinMaxScaler()\n",
    "    \n",
    "    bound = TrainTest(df)\n",
    "    \n",
    "    train = df[0:bound]\n",
    "    test = df[bound:]\n",
    "    \n",
    "    \n",
    "    scaler.fit(train['310_PV_1'].to_frame())\n",
    "    \n",
    "    scaled_df = scaler.transform(df['310_PV_1'].to_frame())\n",
    "    scaled_last = scaler.transform(last['310_PV_1'].to_frame())\n",
    "    scaled_df = np.append(scaled_last, scaled_df)\n",
    "    \n",
    "    generator1 =  TimeseriesGenerator(scaled_df, scaled_df, length=107, batch_size=1)\n",
    "    generator = TimeseriesGenerator(scaled_df[107:bound+107], scaled_df[107:bound+107], length=107, batch_size=1)\n",
    "    \n",
    "    \n",
    "    scaled_df2 = pd.DataFrame(scaled_df, columns = ['310_PV_1'])\n",
    "    \n",
    "    lag = lags(scaled_df2, 107)\n",
    "    \n",
    "    lag = lag[lag.columns[::-1]]\n",
    "    \n",
    "    lagged_train = lag.iloc[107:bound+107]\n",
    "    lagged_test = lag.iloc[bound+107:]\n",
    "\n",
    "    \n",
    "    \n",
    "    X_test = lagged_test.drop('310_PV_1', axis = 1).values.tolist()\n",
    "    Y_test = lagged_test['310_PV_1'].values.tolist()\n",
    "  \n",
    "    \n",
    "    model2, params= model2Train(generator)\n",
    "    \n",
    "    model2.save(season)\n",
    "    \n",
    "    Tests = TestModel(X_test, Y_test, model2, scaler)\n",
    "    \n",
    "    \n",
    "    print(Tests)\n",
    "    \n",
    "   \n",
    "    \n",
    "    return Tests, params \n",
    "\n",
    "    "
   ]
  },
  {
   "cell_type": "code",
   "execution_count": 11,
   "id": "a84818b0",
   "metadata": {},
   "outputs": [],
   "source": [
    "\n",
    "\n",
    "df1 = df[df.index.month.isin([1,2,3])]\n",
    "df1 = df1.iloc[:-1 , :]\n",
    "\n",
    "\n",
    "df2 = df[df.index.month.isin([4,5,6])]\n",
    "\n",
    "df3 = df[df.index.month.isin([7,8,9])]\n",
    "\n",
    "df4 = df[df.index.month.isin([10,11,12])]"
   ]
  },
  {
   "cell_type": "code",
   "execution_count": 12,
   "id": "30e29b2e",
   "metadata": {
    "scrolled": true
   },
   "outputs": [
    {
     "name": "stdout",
     "output_type": "stream",
     "text": [
      "Trial 1 Complete [00h 07m 16s]\n",
      "loss: 0.004261706955730915\n",
      "\n",
      "Best loss So Far: 0.004261706955730915\n",
      "Total elapsed time: 00h 07m 16s\n",
      "\n",
      "Search: Running Trial #2\n",
      "\n",
      "Value             |Best Value So Far |Hyperparameter\n",
      "6                 |4                 |units\n",
      "0.001             |0.01              |learning rate\n",
      "\n",
      "Epoch 1/3\n",
      "  21/6881 [..............................] - ETA: 2:38 - loss: 0.0227 - accuracy: 0.0000e+00"
     ]
    }
   ],
   "source": [
    " mse1, params1 = runModels(df1,df4.iloc[-107:], 'season1')\n"
   ]
  },
  {
   "cell_type": "code",
   "execution_count": 13,
   "id": "c74d542a",
   "metadata": {},
   "outputs": [],
   "source": [
    "mse3, params2 = runModels(df2,df1.iloc[-107:], 'season2')"
   ]
  },
  {
   "cell_type": "code",
   "execution_count": 14,
   "id": "a142dfe0",
   "metadata": {},
   "outputs": [],
   "source": [
    "mse5, params3 = runModels(df3, df2.iloc[-107:],'season3')"
   ]
  },
  {
   "cell_type": "code",
   "execution_count": 15,
   "id": "a1a4f2a9",
   "metadata": {
    "scrolled": true
   },
   "outputs": [],
   "source": [
    "mse7, params4 = runModels(df4, df3.iloc[-107:],'season4')"
   ]
  },
  {
   "cell_type": "code",
   "execution_count": 16,
   "id": "c1df838b",
   "metadata": {},
   "outputs": [],
   "source": [
    "print('season 1')\n",
    "\n",
    "print(params1)\n",
    "#print(mse1)\n",
    "#print('model Naive:')\n",
    "#print(mse2)\n"
   ]
  },
  {
   "cell_type": "code",
   "execution_count": 17,
   "id": "abbff86b",
   "metadata": {},
   "outputs": [],
   "source": [
    "print('season 2')\n",
    "\n",
    "print(params2)\n",
    "#print(mse1)\n",
    "#print('model Naive:')\n",
    "#print(mse2)\n"
   ]
  },
  {
   "cell_type": "code",
   "execution_count": 18,
   "id": "e1d77497",
   "metadata": {},
   "outputs": [],
   "source": [
    "print('season 3')\n",
    "\n",
    "print(params3)\n",
    "#print(mse1)\n",
    "#print('model Naive:')\n",
    "#print(mse2)\n"
   ]
  },
  {
   "cell_type": "code",
   "execution_count": 19,
   "id": "40d88820",
   "metadata": {},
   "outputs": [],
   "source": [
    "print('season 4')\n",
    "\n",
    "print(params4)\n",
    "#print(mse1)\n",
    "#print('model Naive:')\n",
    "#print(mse2)\n"
   ]
  },
  {
   "cell_type": "code",
   "execution_count": 20,
   "id": "3879ae20",
   "metadata": {},
   "outputs": [],
   "source": [
    "\n",
    "d = {'Season1':mse1,'Season2':mse3,'Season3':mse5,'Season4':mse7}\n",
    "df_errors_LSTM = pd.DataFrame({k:pd.Series(v) for k,v in d.items()})\n",
    "df_errors_LSTM.to_csv('LSTM_errors_scaled_random.csv')\n",
    "\n"
   ]
  },
  {
   "cell_type": "code",
   "execution_count": 21,
   "id": "66fb6a9c",
   "metadata": {},
   "outputs": [],
   "source": [
    "print(params1)"
   ]
  },
  {
   "cell_type": "code",
   "execution_count": null,
   "id": "df293001",
   "metadata": {},
   "outputs": [],
   "source": []
  }
 ],
 "metadata": {
  "kernelspec": {
   "display_name": "Python 3 (ipykernel)",
   "language": "python",
   "name": "python3"
  },
  "language_info": {
   "codemirror_mode": {
    "name": "ipython",
    "version": 3
   },
   "file_extension": ".py",
   "mimetype": "text/x-python",
   "name": "python",
   "nbconvert_exporter": "python",
   "pygments_lexer": "ipython3",
   "version": "3.9.0"
  }
 },
 "nbformat": 4,
 "nbformat_minor": 5
}
