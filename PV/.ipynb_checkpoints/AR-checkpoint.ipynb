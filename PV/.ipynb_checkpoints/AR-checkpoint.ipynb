{
 "cells": [
  {
   "cell_type": "code",
   "execution_count": 1,
   "id": "2ad9cc49",
   "metadata": {},
   "outputs": [],
   "source": [
    "import numpy as np\n",
    "import pandas as pd\n",
    "import matplotlib.pyplot as plt\n",
    "import seaborn as sns\n",
    "from datetime import datetime\n",
    "from datetime import timedelta\n",
    "from dateutil.parser import parse\n",
    "from datetime import datetime\n",
    "from pandas.tseries.offsets import Hour, Minute\n",
    "from pandas.tseries.offsets import Day, MonthEnd\n",
    "import pytz\n",
    "from pandas.tseries.offsets import Hour\n",
    "from pandas.tseries.frequencies import to_offset\n",
    "from statsmodels.graphics.tsaplots import plot_acf\n",
    "from statsmodels.tsa.arima.model import ARIMA\n",
    "from statsmodels.tsa.stattools import acf\n",
    "from pmdarima import auto_arima"
   ]
  },
  {
   "cell_type": "code",
   "execution_count": 9,
   "id": "08a04266",
   "metadata": {},
   "outputs": [],
   "source": [
    "#df = pd.read_csv('Wind_deseason.csv')\n",
    "df = pd.read_csv('Wind_deseason.csv', parse_dates=[0], index_col=0)"
   ]
  },
  {
   "cell_type": "code",
   "execution_count": 10,
   "id": "ccedafca",
   "metadata": {},
   "outputs": [],
   "source": [
    "#AR model"
   ]
  },
  {
   "cell_type": "code",
   "execution_count": 11,
   "id": "b8885016",
   "metadata": {},
   "outputs": [],
   "source": [
    "from statsmodels.tsa.ar_model import AutoReg, ar_select_order"
   ]
  },
  {
   "cell_type": "code",
   "execution_count": 13,
   "id": "4fc32dc1",
   "metadata": {},
   "outputs": [
    {
     "name": "stdout",
     "output_type": "stream",
     "text": [
      "(105408, 8)\n",
      "(105404, 8) (4, 8)\n"
     ]
    }
   ],
   "source": [
    "print(df.shape)\n",
    "train=df.iloc[:len(df)-4]\n",
    "test=df.iloc[len(df)-4:]\n",
    "print(train.shape,test.shape)"
   ]
  },
  {
   "cell_type": "code",
   "execution_count": 14,
   "id": "c771a32b",
   "metadata": {},
   "outputs": [
    {
     "name": "stdout",
     "output_type": "stream",
     "text": [
      "                            AutoReg Model Results                             \n",
      "==============================================================================\n",
      "Dep. Variable:             309_WIND_1   No. Observations:               105404\n",
      "Model:                     AutoReg(4)   Log Likelihood             -243230.637\n",
      "Method:               Conditional MLE   S.D. of innovations              2.432\n",
      "Date:                Mon, 01 May 2023   AIC                         486473.275\n",
      "Time:                        13:03:58   BIC                         486530.668\n",
      "Sample:                    01-01-2020   HQIC                        486490.651\n",
      "                         - 12-31-2020                                         \n",
      "=================================================================================\n",
      "                    coef    std err          z      P>|z|      [0.025      0.975]\n",
      "---------------------------------------------------------------------------------\n",
      "const             0.0283      0.008      3.706      0.000       0.013       0.043\n",
      "309_WIND_1.L1     1.7594      0.003    575.799      0.000       1.753       1.765\n",
      "309_WIND_1.L2    -1.0864      0.006   -179.129      0.000      -1.098      -1.075\n",
      "309_WIND_1.L3     0.4501      0.006     74.220      0.000       0.438       0.462\n",
      "309_WIND_1.L4    -0.1261      0.003    -41.266      0.000      -0.132      -0.120\n",
      "                                    Roots                                    \n",
      "=============================================================================\n",
      "                  Real          Imaginary           Modulus         Frequency\n",
      "-----------------------------------------------------------------------------\n",
      "AR.1            1.0068           -0.0000j            1.0068           -0.0000\n",
      "AR.2            1.7184           -0.0000j            1.7184           -0.0000\n",
      "AR.3            0.4224           -2.0989j            2.1410           -0.2184\n",
      "AR.4            0.4224           +2.0989j            2.1410            0.2184\n",
      "-----------------------------------------------------------------------------\n"
     ]
    },
    {
     "name": "stderr",
     "output_type": "stream",
     "text": [
      "C:\\Users\\bvits\\anaconda3\\envs\\modern_ts\\lib\\site-packages\\statsmodels\\tsa\\base\\tsa_model.py:471: ValueWarning: No frequency information was provided, so inferred frequency 5T will be used.\n",
      "  self._init_dates(dates, freq)\n"
     ]
    }
   ],
   "source": [
    "mod = AutoReg(train['309_WIND_1'], 4, old_names=False)\n",
    "res = mod.fit()\n",
    "print(res.summary())\n"
   ]
  },
  {
   "cell_type": "code",
   "execution_count": 15,
   "id": "e56171d1",
   "metadata": {},
   "outputs": [
    {
     "name": "stderr",
     "output_type": "stream",
     "text": [
      "C:\\Users\\bvits\\anaconda3\\envs\\modern_ts\\lib\\site-packages\\statsmodels\\tsa\\deterministic.py:302: UserWarning: Only PeriodIndexes, DatetimeIndexes with a frequency set, RangesIndexes, and Index with a unit increment support extending. The index is set will contain the position relative to the data length.\n",
      "  fcast_index = self._extend_index(index, steps, forecast_index)\n"
     ]
    }
   ],
   "source": [
    "start = len(train)\n",
    "end = len(train)+len(test)-1\n",
    "pred = res.predict(start = start, end = end)\n"
   ]
  },
  {
   "cell_type": "code",
   "execution_count": 16,
   "id": "32bf1897",
   "metadata": {},
   "outputs": [
    {
     "data": {
      "text/plain": [
       "<Axes: xlabel='Date'>"
      ]
     },
     "execution_count": 16,
     "metadata": {},
     "output_type": "execute_result"
    },
    {
     "data": {
      "image/png": "[encoded data removed]",
      "text/plain": [
       "<Figure size 640x480 with 1 Axes>"
      ]
     },
     "metadata": {},
     "output_type": "display_data"
    }
   ],
   "source": [
    "\n",
    "pred.plot(legend=True)\n",
    "test['309_WIND_1'].iloc[:31000].plot(legend=True)\n"
   ]
  },
  {
   "cell_type": "code",
   "execution_count": null,
   "id": "8983ed9d",
   "metadata": {},
   "outputs": [],
   "source": []
  }
 ],
 "metadata": {
  "kernelspec": {
   "display_name": "Python 3 (ipykernel)",
   "language": "python",
   "name": "python3"
  },
  "language_info": {
   "codemirror_mode": {
    "name": "ipython",
    "version": 3
   },
   "file_extension": ".py",
   "mimetype": "text/x-python",
   "name": "python",
   "nbconvert_exporter": "python",
   "pygments_lexer": "ipython3",
   "version": "3.9.0"
  }
 },
 "nbformat": 4,
 "nbformat_minor": 5
}
