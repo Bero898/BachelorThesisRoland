{
 "cells": [
  {
   "cell_type": "code",
   "execution_count": 29,
   "id": "2ad9cc49",
   "metadata": {},
   "outputs": [],
   "source": [
    "import numpy as np\n",
    "import pandas as pd\n",
    "from pandas.tseries.offsets import Hour, Minute\n",
    "from pandas.tseries.offsets import Day, MonthEnd\n",
    "from pandas.tseries.offsets import Hour\n",
    "from sklearn.model_selection import TimeSeriesSplit\n",
    "from sklearn.preprocessing import MinMaxScaler\n",
    "from sklearn.metrics import mean_squared_error as mse\n",
    "from keras.preprocessing.sequence import TimeseriesGenerator\n",
    "from keras.models import Sequential\n",
    "from keras.layers import Dense\n",
    "from keras.layers import LSTM\n",
    "\n",
    "from tensorflow.keras.utils import set_random_seed as set_seed\n",
    "set_seed(777)\n"
   ]
  },
  {
   "cell_type": "code",
   "execution_count": 30,
   "id": "08a04266",
   "metadata": {},
   "outputs": [],
   "source": [
    "\n",
    "\n",
    "#df = pd.read_csv('Wind_deseason.csv')\n",
    "df = pd.read_csv('Wind_deseason_15.csv', parse_dates=[0], index_col=0)\n"
   ]
  },
  {
   "cell_type": "code",
   "execution_count": 31,
   "id": "c4091b6b",
   "metadata": {},
   "outputs": [],
   "source": [
    "def TrainTest(df):\n",
    "    \n",
    "    num_rows = df.shape[0]\n",
    "    \n",
    "    num_training = (num_rows * 8)//10\n",
    "   \n",
    "    #train = df.iloc[0:num_training]\n",
    "    #test = df.iloc[num_training:num_rows]\n",
    "    \n",
    "    \n",
    "    return num_training \n",
    "        \n",
    "            "
   ]
  },
  {
   "cell_type": "code",
   "execution_count": 32,
   "id": "5dcb4921",
   "metadata": {},
   "outputs": [],
   "source": [
    "def lags(df, n):\n",
    "    \n",
    "    df_new = df\n",
    "    \n",
    "    for i in range(n):\n",
    "        name = \"lag \"+ str(i+1)\n",
    "        df_new[name] = df['309_WIND_1'].shift(i+1)\n",
    "    \n",
    "    return df_new"
   ]
  },
  {
   "cell_type": "code",
   "execution_count": 33,
   "id": "4fc32dc1",
   "metadata": {},
   "outputs": [],
   "source": [
    "\n",
    "def model1Train(X,Y):\n",
    "     \n",
    "    mod = Sequential()\n",
    "    mod.add(LSTM(6, activation='sigmoid', input_shape=(107, 1), return_sequences = True))\n",
    "    mod.add(LSTM(6, activation='sigmoid', input_shape=(107, 1), return_sequences = True))\n",
    "    mod.add(LSTM(6, activation='sigmoid', input_shape=(107, 1)))\n",
    "    mod.add(Dense(1))\n",
    "    mod.compile(optimizer='adam', loss='mse', metrics = ['accuracy'])\n",
    "       \n",
    "        \n",
    "    print(mod.summary())\n",
    "        \n",
    "    mod.fit(x = X, y = Y,epochs=20,verbose = 1)#keep low for now, edit later\n",
    "    \n",
    "    return mod\n",
    "    \n",
    "    \n",
    "    "
   ]
  },
  {
   "cell_type": "code",
   "execution_count": null,
   "id": "22851470",
   "metadata": {},
   "outputs": [],
   "source": []
  },
  {
   "cell_type": "code",
   "execution_count": 34,
   "id": "9d35fc0c",
   "metadata": {},
   "outputs": [],
   "source": [
    "def model2Train(gen):\n",
    "     \n",
    "    mod = Sequential()\n",
    "    mod.add(LSTM(1, activation='sigmoid', input_shape=(107, 1)))\n",
    "   \n",
    "    mod.add(Dense(1))\n",
    "    mod.compile(optimizer='adam', loss='mse', metrics = ['accuracy'])\n",
    "       \n",
    "        \n",
    "    print(mod.summary())\n",
    "        \n",
    "    mod.fit(gen,epochs=3,verbose = 1)#keep low for now, edit later\n",
    "    \n",
    "    return mod\n",
    "    "
   ]
  },
  {
   "cell_type": "code",
   "execution_count": 35,
   "id": "f8a47108",
   "metadata": {},
   "outputs": [],
   "source": [
    "def TestModel(X,test, mod, scaler):\n",
    "    \n",
    "    MSEs = []\n",
    "    \n",
    "    for i in range(len(X)):\n",
    "        array = np.array(X[i])\n",
    "        \n",
    "        pred = mod.predict(array.reshape(1,107,1))\n",
    "        print(pred)\n",
    "        #pred = scaler.inverse_transform(pred)\n",
    "        \n",
    "        unscaled_pred = scaler.inverse_transform(pred)\n",
    "        unscaled_test = scaler.inverse_transform([[test[i]]])\n",
    "       \n",
    "        \n",
    "        MSEs.append(mse(unscaled_test[0],unscaled_pred[0]))\n",
    "        \n",
    "        \n",
    "    return MSEs"
   ]
  },
  {
   "cell_type": "code",
   "execution_count": 36,
   "id": "7ce1d0e2",
   "metadata": {},
   "outputs": [],
   "source": [
    "#def modelNaiveTest(df):\n",
    "\n",
    "    \n",
    "    \n",
    "    \n"
   ]
  },
  {
   "cell_type": "code",
   "execution_count": 37,
   "id": "77388f8e",
   "metadata": {},
   "outputs": [],
   "source": [
    "def runModels(df, last):\n",
    "    \n",
    "    scaler = MinMaxScaler()\n",
    "    \n",
    "    bound = TrainTest(df)\n",
    "    \n",
    "    train = df[0:bound]\n",
    "    test = df[bound:]\n",
    "    \n",
    "    \n",
    "    scaler.fit(train['309_WIND_1'].to_frame())\n",
    "    \n",
    "    scaled_df = scaler.transform(df['309_WIND_1'].to_frame())\n",
    "    scaled_last = scaler.transform(last['309_WIND_1'].to_frame())\n",
    "    scaled_df = np.append(scaled_last, scaled_df)\n",
    "    \n",
    "    \n",
    "    generator = TimeseriesGenerator(scaled_df[107:bound+107], scaled_df[107:bound+107], length=107, batch_size=1)\n",
    "                                      \n",
    "    \n",
    "\n",
    "    scaled_df = pd.DataFrame(scaled_df, columns = ['309_WIND_1'])\n",
    "    \n",
    "    lag = lags(scaled_df, 107)\n",
    "    \n",
    "    lag = lag[lag.columns[::-1]]\n",
    "    \n",
    "    lagged_train = lag.iloc[107:bound+107]\n",
    "    lagged_test = lag.iloc[bound+107:]\n",
    "\n",
    "    \n",
    "    \n",
    "    X_test = lagged_test.drop('309_WIND_1', axis = 1).values.tolist()\n",
    "    Y_test = lagged_test['309_WIND_1'].values.tolist()\n",
    "  \n",
    "    \n",
    "    model2 = model2Train(generator)\n",
    "    \n",
    "    Tests = TestModel(X_test, Y_test, model2, scaler)\n",
    "    \n",
    "    \n",
    "    print(Tests)\n",
    "    \n",
    "   \n",
    "    \n",
    "    return Tests#, mse2\n",
    "\n",
    "    "
   ]
  },
  {
   "cell_type": "code",
   "execution_count": 38,
   "id": "a84818b0",
   "metadata": {},
   "outputs": [],
   "source": [
    "\n",
    "\n",
    "df1 = df[df.index.month.isin([1,2,3])]\n",
    "df1 = df1.iloc[:-1 , :]\n",
    "print(len(df1))\n",
    "\n",
    "df2 = df[df.index.month.isin([4,5,6])]\n",
    "\n",
    "df3 = df[df.index.month.isin([7,8,9])]\n",
    "\n",
    "df4 = df[df.index.month.isin([10,11,12])]"
   ]
  },
  {
   "cell_type": "code",
   "execution_count": 39,
   "id": "30e29b2e",
   "metadata": {
    "scrolled": true
   },
   "outputs": [],
   "source": [
    "# mse1 = runModels(df1,df4.iloc[-107:])\n"
   ]
  },
  {
   "cell_type": "code",
   "execution_count": 40,
   "id": "c74d542a",
   "metadata": {},
   "outputs": [],
   "source": [
    "#mse3 = runModels(df2,df1.iloc[-107:])"
   ]
  },
  {
   "cell_type": "code",
   "execution_count": 41,
   "id": "a142dfe0",
   "metadata": {},
   "outputs": [],
   "source": [
    "mse5 = runModels(df3, df2.iloc[-107:])"
   ]
  },
  {
   "cell_type": "code",
   "execution_count": 42,
   "id": "a1a4f2a9",
   "metadata": {},
   "outputs": [],
   "source": [
    "#mse7 = runModels(df4, df3.iloc[-107:])"
   ]
  },
  {
   "cell_type": "code",
   "execution_count": 43,
   "id": "c1df838b",
   "metadata": {},
   "outputs": [],
   "source": [
    "#print('season 1')\n",
    "\n",
    "#print('model 1:')\n",
    "#print(mse1)\n",
    "#print('model Naive:')\n",
    "#print(mse2)\n"
   ]
  },
  {
   "cell_type": "code",
   "execution_count": 44,
   "id": "abbff86b",
   "metadata": {},
   "outputs": [],
   "source": [
    "#print('season 1')\n",
    "\n",
    "#print('model 1:')\n",
    "#print(mse3)\n",
    "#print('model Naive:')\n",
    "#print(mse4)\n"
   ]
  },
  {
   "cell_type": "code",
   "execution_count": 45,
   "id": "e1d77497",
   "metadata": {},
   "outputs": [],
   "source": [
    "#print('season 1')\n",
    "\n",
    "#print('model 1:')\n",
    "#print(mse5)\n",
    "#print('model Naive:')\n",
    "#print(mse6)\n"
   ]
  },
  {
   "cell_type": "code",
   "execution_count": 46,
   "id": "40d88820",
   "metadata": {},
   "outputs": [],
   "source": [
    "#print('season 1')\n",
    "\n",
    "#print('model 1:')\n",
    "#print(mse7)\n",
    "#print('model Naive:')\n",
    "#print(mse8)\n"
   ]
  },
  {
   "cell_type": "code",
   "execution_count": 47,
   "id": "3879ae20",
   "metadata": {},
   "outputs": [],
   "source": [
    "#'Season 1':mse2,'Season 2':mse4,'Season 4':mse8\n",
    "d = {'Season 3':mse5}\n",
    "#df_errors_Naive = pd.DataFrame({k:pd.Series(v) for k,v in d.items()})\n",
    "#d = {'Season1':mse1,'Season2':mse3,'Season3':mse5,'Season4':mse7}\n",
    "df_errors_LSTM = pd.DataFrame({k:pd.Series(v) for k,v in d.items()})\n",
    "d#f_errors_Naive.to_csv('Naive_errors.csv')\n",
    "df_errors_LSTM.to_csv('LSTM_errors_not_scaled_s3.csv')\n",
    "\n"
   ]
  },
  {
   "cell_type": "code",
   "execution_count": null,
   "id": "66fb6a9c",
   "metadata": {},
   "outputs": [],
   "source": []
  }
 ],
 "metadata": {
  "kernelspec": {
   "display_name": "Python 3 (ipykernel)",
   "language": "python",
   "name": "python3"
  },
  "language_info": {
   "codemirror_mode": {
    "name": "ipython",
    "version": 3
   },
   "file_extension": ".py",
   "mimetype": "text/x-python",
   "name": "python",
   "nbconvert_exporter": "python",
   "pygments_lexer": "ipython3",
   "version": "3.9.0"
  }
 },
 "nbformat": 4,
 "nbformat_minor": 5
}
