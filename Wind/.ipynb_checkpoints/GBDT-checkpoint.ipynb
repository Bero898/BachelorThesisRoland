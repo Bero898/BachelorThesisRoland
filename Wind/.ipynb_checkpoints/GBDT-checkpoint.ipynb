{
 "cells": [
  {
   "cell_type": "code",
   "execution_count": 1,
   "id": "2ad9cc49",
   "metadata": {},
   "outputs": [],
   "source": [
    "import numpy as np\n",
    "import pandas as pd\n",
    "from pandas.tseries.offsets import Hour, Minute\n",
    "from pandas.tseries.offsets import Day, MonthEnd\n",
    "from pandas.tseries.offsets import Hour\n",
    "from sklearn.model_selection import TimeSeriesSplit\n",
    "from sklearn.preprocessing import MinMaxScaler\n",
    "from sklearn.metrics import mean_squared_error as mse\n",
    "from keras.preprocessing.sequence import TimeseriesGenerator\n",
    "import xgboost as xgb\n",
    "\n",
    "np.random.seed(42)\n"
   ]
  },
  {
   "cell_type": "code",
   "execution_count": 2,
   "id": "08a04266",
   "metadata": {},
   "outputs": [],
   "source": [
    "\n",
    "global busses\n",
    "busses =        ['310_PV_1', '310_PV_2', '320_PV_1', '314_PV_1', '314_PV_2', '313_PV_1', '314_PV_3', '314_PV_4', '313_PV_2', '324_PV_1',    \n",
    "                 '312_PV_1', '324_PV_2', '324_PV_3', '113_PV_1', '319_PV_1', '215_PV_1', '102_PV_1', '101_PV_1', '102_PV_2',\n",
    "                 '104_PV_1', '101_PV_2', '101_PV_3', '101_PV_4', '103_PV_1', '119_PV_1']\n",
    "df = pd.read_csv('PV_deseason_15.csv', parse_dates=[0], index_col=0)\n"
   ]
  },
  {
   "cell_type": "code",
   "execution_count": 3,
   "id": "540736ad",
   "metadata": {},
   "outputs": [],
   "source": [
    "def lags(df, n, bus):\n",
    "    \n",
    "    df_new = df\n",
    "    \n",
    "    for i in range(n):\n",
    "        name = \"lag \"+ str(i+1)\n",
    "        df_new[name] = df[bus].shift(i+1)\n",
    "    \n",
    "    return df_new\n",
    "    "
   ]
  },
  {
   "cell_type": "code",
   "execution_count": 4,
   "id": "858ebc6e",
   "metadata": {},
   "outputs": [],
   "source": [
    "def WindowSplit(n, df):\n",
    "    ##last day is considered counted by n the number of days (n-1 train, 1 test)\n",
    "    indices = list(range(len(df.index)))\n",
    "    result = []\n",
    "    \n",
    "    freq = n*96\n",
    "    \n",
    "    total_days = len(df.index)//96\n",
    "    windows = total_days - n + 1\n",
    "    \n",
    "    \n",
    "    start = 0\n",
    "    for i in range(windows):\n",
    "        folds = []\n",
    "        for j in range(5):\n",
    "            end = start+(n-2)*96 + 91 + 20*j +1\n",
    "            train = indices[start:end]\n",
    "            test = [indices[end]]\n",
    "            folds.append((train,test))\n",
    "            \n",
    "        result.append(folds)\n",
    "        start += 96\n",
    "        \n",
    "    return result, windows"
   ]
  },
  {
   "cell_type": "code",
   "execution_count": 5,
   "id": "4fc32dc1",
   "metadata": {},
   "outputs": [],
   "source": [
    "\n",
    "\n",
    "\n",
    "def model1(ws,windows,scaler,df):\n",
    "    mse1 = []\n",
    "\n",
    "    for window in ws:\n",
    "        \n",
    "        for train_indx, val_indx in window:\n",
    "            train = df.iloc[train_indx]\n",
    "            test = df.iloc[val_indx]\n",
    "        \n",
    "            #lag = pd.concat(train, test)\n",
    "        \n",
    "            lag = lags(df, 3, '310_PV_1')\n",
    "        \n",
    "            lagged_test = lag.iloc[val_indx]\n",
    "            lagged_train = lag.iloc[train_indx]\n",
    "        \n",
    "        \n",
    "        \n",
    "        \n",
    "            X_train = lagged_train.drop(busses, axis = 1)\n",
    "            y_train = lagged_train['310_PV_1']\n",
    "        \n",
    "            X_test = lagged_test.drop(busses, axis = 1)\n",
    "            y_test = lagged_test['310_PV_1']\n",
    "        \n",
    "    \n",
    "        \n",
    "            mod = xgb.XGBRegressor()\n",
    "        \n",
    "       \n",
    "        \n",
    "            mod.fit(X_train, y_train)#keep low for now, edit later eval_set = [(X_train, y_train),(X_test, y_test)]\n",
    "        \n",
    "            final_batch_X = X_test.head(1)\n",
    "            final_batch_y = y_test.head(1)\n",
    "        \n",
    "    \n",
    "            pred = mod.predict(final_batch_X)\n",
    "    \n",
    "        \n",
    "            error = mse([test['310_PV_1'][0]],pred)\n",
    "            mse1.append(error)\n",
    "\n",
    "    #print(mse)\n",
    "    return mse1\n",
    "\n",
    "    "
   ]
  },
  {
   "cell_type": "code",
   "execution_count": 6,
   "id": "7ce1d0e2",
   "metadata": {},
   "outputs": [],
   "source": [
    "def modelNaive(tss,df):\n",
    "\n",
    "    mse3 = []\n",
    "\n",
    "    for train_indx, val_indx in tss.split(df):\n",
    "        train = df.iloc[train_indx]\n",
    "        test = df.iloc[val_indx]\n",
    "    \n",
    "        pred = train['310_PV_1'][-1]\n",
    "    \n",
    "    \n",
    "        error = 0.5*(test['310_PV_1'][0] - pred)**2\n",
    "        mse3.append(error)\n",
    "        \n",
    "    print(mse3)\n",
    "    return mse3"
   ]
  },
  {
   "cell_type": "code",
   "execution_count": 7,
   "id": "77388f8e",
   "metadata": {},
   "outputs": [],
   "source": [
    "def runModels(df):\n",
    "    ws, windows =  WindowSplit(5,df)#window split\n",
    "    scaler = MinMaxScaler()\n",
    "    mse1 = model1(ws,windows,scaler,df)\n",
    "    \n",
    "    return mse1\n",
    "\n",
    "    "
   ]
  },
  {
   "cell_type": "code",
   "execution_count": 8,
   "id": "a84818b0",
   "metadata": {},
   "outputs": [],
   "source": [
    "\n",
    "df1 = df[df.index.month.isin([1,2,3])]\n",
    "df2 = df[df.index.month.isin([4,5,6])]\n",
    "df3 = df[df.index.month.isin([7,8,9])]\n",
    "df4 = df[df.index.month.isin([10,11,12])]"
   ]
  },
  {
   "cell_type": "code",
   "execution_count": null,
   "id": "b71950e3",
   "metadata": {},
   "outputs": [],
   "source": []
  },
  {
   "cell_type": "code",
   "execution_count": 9,
   "id": "30e29b2e",
   "metadata": {
    "scrolled": true
   },
   "outputs": [
    {
     "name": "stderr",
     "output_type": "stream",
     "text": [
      "C:\\Users\\bvits\\AppData\\Local\\Temp\\ipykernel_46600\\788086416.py:7: SettingWithCopyWarning: \n",
      "A value is trying to be set on a copy of a slice from a DataFrame.\n",
      "Try using .loc[row_indexer,col_indexer] = value instead\n",
      "\n",
      "See the caveats in the documentation: https://pandas.pydata.org/pandas-docs/stable/user_guide/indexing.html#returning-a-view-versus-a-copy\n",
      "  df_new[name] = df[bus].shift(i+1)\n",
      "C:\\Users\\bvits\\AppData\\Local\\Temp\\ipykernel_46600\\788086416.py:7: SettingWithCopyWarning: \n",
      "A value is trying to be set on a copy of a slice from a DataFrame.\n",
      "Try using .loc[row_indexer,col_indexer] = value instead\n",
      "\n",
      "See the caveats in the documentation: https://pandas.pydata.org/pandas-docs/stable/user_guide/indexing.html#returning-a-view-versus-a-copy\n",
      "  df_new[name] = df[bus].shift(i+1)\n",
      "C:\\Users\\bvits\\AppData\\Local\\Temp\\ipykernel_46600\\788086416.py:7: SettingWithCopyWarning: \n",
      "A value is trying to be set on a copy of a slice from a DataFrame.\n",
      "Try using .loc[row_indexer,col_indexer] = value instead\n",
      "\n",
      "See the caveats in the documentation: https://pandas.pydata.org/pandas-docs/stable/user_guide/indexing.html#returning-a-view-versus-a-copy\n",
      "  df_new[name] = df[bus].shift(i+1)\n"
     ]
    },
    {
     "name": "stdout",
     "output_type": "stream",
     "text": [
      "9.892466016014579e-09\n"
     ]
    },
    {
     "ename": "AttributeError",
     "evalue": "'function' object has no attribute 'append'",
     "output_type": "error",
     "traceback": [
      "\u001b[1;31m---------------------------------------------------------------------------\u001b[0m",
      "\u001b[1;31mAttributeError\u001b[0m                            Traceback (most recent call last)",
      "Cell \u001b[1;32mIn[9], line 1\u001b[0m\n\u001b[1;32m----> 1\u001b[0m mse1 \u001b[38;5;241m=\u001b[39m \u001b[43mrunModels\u001b[49m\u001b[43m(\u001b[49m\u001b[43mdf1\u001b[49m\u001b[43m)\u001b[49m\n",
      "Cell \u001b[1;32mIn[7], line 4\u001b[0m, in \u001b[0;36mrunModels\u001b[1;34m(df)\u001b[0m\n\u001b[0;32m      2\u001b[0m ws, windows \u001b[38;5;241m=\u001b[39m  WindowSplit(\u001b[38;5;241m5\u001b[39m,df)\u001b[38;5;66;03m#window split\u001b[39;00m\n\u001b[0;32m      3\u001b[0m scaler \u001b[38;5;241m=\u001b[39m MinMaxScaler()\n\u001b[1;32m----> 4\u001b[0m mse1 \u001b[38;5;241m=\u001b[39m \u001b[43mmodel1\u001b[49m\u001b[43m(\u001b[49m\u001b[43mws\u001b[49m\u001b[43m,\u001b[49m\u001b[43mwindows\u001b[49m\u001b[43m,\u001b[49m\u001b[43mscaler\u001b[49m\u001b[43m,\u001b[49m\u001b[43mdf\u001b[49m\u001b[43m)\u001b[49m\n\u001b[0;32m      6\u001b[0m \u001b[38;5;28;01mreturn\u001b[39;00m mse1\n",
      "Cell \u001b[1;32mIn[5], line 44\u001b[0m, in \u001b[0;36mmodel1\u001b[1;34m(ws, windows, scaler, df)\u001b[0m\n\u001b[0;32m     41\u001b[0m         error \u001b[38;5;241m=\u001b[39m mse([test[\u001b[38;5;124m'\u001b[39m\u001b[38;5;124m310_PV_1\u001b[39m\u001b[38;5;124m'\u001b[39m][\u001b[38;5;241m0\u001b[39m]],pred)\n\u001b[0;32m     43\u001b[0m         \u001b[38;5;28mprint\u001b[39m(error)\n\u001b[1;32m---> 44\u001b[0m         \u001b[43mmse\u001b[49m\u001b[38;5;241;43m.\u001b[39;49m\u001b[43mappend\u001b[49m(error)\n\u001b[0;32m     46\u001b[0m \u001b[38;5;66;03m#print(mse)\u001b[39;00m\n\u001b[0;32m     47\u001b[0m \u001b[38;5;28;01mreturn\u001b[39;00m mse1\n",
      "\u001b[1;31mAttributeError\u001b[0m: 'function' object has no attribute 'append'"
     ]
    }
   ],
   "source": [
    "mse1 = runModels(df1)"
   ]
  },
  {
   "cell_type": "code",
   "execution_count": null,
   "id": "c74d542a",
   "metadata": {},
   "outputs": [],
   "source": [
    "mse2 = runModels(df2)"
   ]
  },
  {
   "cell_type": "code",
   "execution_count": null,
   "id": "a142dfe0",
   "metadata": {},
   "outputs": [],
   "source": [
    "mse3 = runModels(df3)"
   ]
  },
  {
   "cell_type": "code",
   "execution_count": null,
   "id": "a1a4f2a9",
   "metadata": {},
   "outputs": [],
   "source": [
    "mse4 = runModels(df4)"
   ]
  },
  {
   "cell_type": "code",
   "execution_count": null,
   "id": "c1df838b",
   "metadata": {},
   "outputs": [],
   "source": [
    "print('season 1')\n",
    "\n",
    "print('model 1:')\n",
    "print(mse1)\n",
    "\n"
   ]
  },
  {
   "cell_type": "code",
   "execution_count": null,
   "id": "abbff86b",
   "metadata": {},
   "outputs": [],
   "source": [
    "print('season 1')\n",
    "\n",
    "print('model 1:')\n",
    "print(mse2)\n"
   ]
  },
  {
   "cell_type": "code",
   "execution_count": null,
   "id": "e1d77497",
   "metadata": {},
   "outputs": [],
   "source": [
    "print('season 1')\n",
    "\n",
    "print('model 1:')\n",
    "print(mse3)\n",
    "\n"
   ]
  },
  {
   "cell_type": "code",
   "execution_count": null,
   "id": "40d88820",
   "metadata": {},
   "outputs": [],
   "source": [
    "print('season 1')\n",
    "\n",
    "print('model 1:')\n",
    "print(mse4)\n",
    "\n"
   ]
  },
  {
   "cell_type": "code",
   "execution_count": null,
   "id": "3879ae20",
   "metadata": {},
   "outputs": [],
   "source": [
    "d = {'Season 1':mse1,'Season 2':mse2,'Season 3':mse3,'Season 4':mse4}\n",
    "df_errors_GBDT = pd.DataFrame({k:pd.Series(v) for k,v in d.items()})\n",
    "\n",
    "df_errors_GBDT.to_csv('GBDT_errors.csv')\n"
   ]
  },
  {
   "cell_type": "code",
   "execution_count": null,
   "id": "d24bca91",
   "metadata": {},
   "outputs": [],
   "source": []
  }
 ],
 "metadata": {
  "kernelspec": {
   "display_name": "Python 3 (ipykernel)",
   "language": "python",
   "name": "python3"
  },
  "language_info": {
   "codemirror_mode": {
    "name": "ipython",
    "version": 3
   },
   "file_extension": ".py",
   "mimetype": "text/x-python",
   "name": "python",
   "nbconvert_exporter": "python",
   "pygments_lexer": "ipython3",
   "version": "3.9.0"
  }
 },
 "nbformat": 4,
 "nbformat_minor": 5
}
