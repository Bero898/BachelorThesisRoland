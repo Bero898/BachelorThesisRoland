{
 "cells": [
  {
   "cell_type": "code",
   "execution_count": 1,
   "id": "2ad9cc49",
   "metadata": {},
   "outputs": [],
   "source": [
    "import numpy as np\n",
    "import pandas as pd\n",
    "from pandas.tseries.offsets import Hour, Minute\n",
    "from pandas.tseries.offsets import Day, MonthEnd\n",
    "from pandas.tseries.offsets import Hour\n",
    "from sklearn.model_selection import TimeSeriesSplit\n",
    "from sklearn.preprocessing import MinMaxScaler\n",
    "from sklearn.metrics import mean_squared_error as mse\n",
    "from keras.preprocessing.sequence import TimeseriesGenerator\n",
    "from keras.models import Sequential\n",
    "from keras.layers import Dense\n",
    "from keras.layers import LSTM\n",
    "\n",
    "from tensorflow.keras.utils import set_random_seed as set_seed\n",
    "set_seed(42)\n"
   ]
  },
  {
   "cell_type": "code",
   "execution_count": 2,
   "id": "08a04266",
   "metadata": {},
   "outputs": [],
   "source": [
    "\n",
    "\n",
    "#df = pd.read_csv('Wind_deseason.csv')\n",
    "df = pd.read_csv('Wind_deseason_15.csv', parse_dates=[0], index_col=0)\n"
   ]
  },
  {
   "cell_type": "code",
   "execution_count": 3,
   "id": "c4091b6b",
   "metadata": {},
   "outputs": [],
   "source": [
    "def TrainTest(df):\n",
    "    \n",
    "    num_rows = df.shape[0]\n",
    "    \n",
    "    num_training = (num_rows * 8)//10\n",
    "   \n",
    "    #train = df.iloc[0:num_training]\n",
    "    #test = df.iloc[num_training:num_rows]\n",
    "    \n",
    "    \n",
    "    return num_training \n",
    "        \n",
    "            "
   ]
  },
  {
   "cell_type": "code",
   "execution_count": 4,
   "id": "5dcb4921",
   "metadata": {},
   "outputs": [],
   "source": [
    "def lags(df, n):\n",
    "    \n",
    "    df_new = df\n",
    "    \n",
    "    for i in range(n):\n",
    "        name = \"lag \"+ str(i+1)\n",
    "        df_new[name] = df['309_WIND_1'].shift(i+1)\n",
    "    \n",
    "    return df_new"
   ]
  },
  {
   "cell_type": "code",
   "execution_count": 5,
   "id": "4fc32dc1",
   "metadata": {},
   "outputs": [],
   "source": [
    "\n",
    "def model1Train(X,Y):\n",
    "     \n",
    "    mod = Sequential()\n",
    "    mod.add(LSTM(6, activation='sigmoid', input_shape=(107, 1), return_sequences = True))\n",
    "    mod.add(LSTM(6, activation='sigmoid', input_shape=(107, 1), return_sequences = True))\n",
    "    mod.add(LSTM(6, activation='sigmoid', input_shape=(107, 1)))\n",
    "    mod.add(Dense(1))\n",
    "    mod.compile(optimizer='adam', loss='mse', metrics = ['accuracy'])\n",
    "       \n",
    "        \n",
    "    print(mod.summary())\n",
    "        \n",
    "    mod.fit(x = X, y = Y,epochs=20,verbose = 1)#keep low for now, edit later\n",
    "    \n",
    "    return mod\n",
    "    \n",
    "    \n",
    "    "
   ]
  },
  {
   "cell_type": "code",
   "execution_count": null,
   "id": "22851470",
   "metadata": {},
   "outputs": [],
   "source": []
  },
  {
   "cell_type": "code",
   "execution_count": 6,
   "id": "9d35fc0c",
   "metadata": {},
   "outputs": [],
   "source": [
    "def model2Train(gen):\n",
    "     \n",
    "    mod = Sequential()\n",
    "    mod.add(LSTM(1, activation='sigmoid', input_shape=(107, 1)))\n",
    "   \n",
    "    mod.add(Dense(1))\n",
    "    mod.compile(optimizer='adam', loss='mse', metrics = ['accuracy'])\n",
    "       \n",
    "        \n",
    "    print(mod.summary())\n",
    "        \n",
    "    mod.fit(gen,epochs=1,verbose = 1)#keep low for now, edit later\n",
    "    \n",
    "    return mod\n",
    "    "
   ]
  },
  {
   "cell_type": "code",
   "execution_count": 7,
   "id": "f8a47108",
   "metadata": {},
   "outputs": [],
   "source": [
    "def TestModel(X,test, mod, scaler):\n",
    "    \n",
    "    MSEs = []\n",
    "    \n",
    "    for i in range(len(X)):\n",
    "        array = np.array(X[i])\n",
    "        \n",
    "        pred = mod.predict(array.reshape(1,107,1))\n",
    "        print(pred)\n",
    "        #pred = scaler.inverse_transform(pred)\n",
    "        \n",
    "        unscaled_pred = scaler.inverse_transform(pred)\n",
    "        unscaled_test = scaler.inverse_transform([[test[i]]])\n",
    "       \n",
    "        \n",
    "        MSEs.append(mse(scaled_test[0],scaled_pred[0]))\n",
    "        \n",
    "        \n",
    "    return MSEs"
   ]
  },
  {
   "cell_type": "code",
   "execution_count": 8,
   "id": "7ce1d0e2",
   "metadata": {},
   "outputs": [],
   "source": [
    "#def modelNaiveTest(df):\n",
    "\n",
    "    \n",
    "    \n",
    "    \n"
   ]
  },
  {
   "cell_type": "code",
   "execution_count": 16,
   "id": "77388f8e",
   "metadata": {},
   "outputs": [],
   "source": [
    "def runModels(df, last):\n",
    "    \n",
    "    scaler = MinMaxScaler()\n",
    "    \n",
    "    bound = TrainTest(df)\n",
    "    \n",
    "    train = df[0:bound]\n",
    "    test = df[bound:]\n",
    "    \n",
    "    \n",
    "    scaler.fit(train['309_WIND_1'].to_frame())\n",
    "    \n",
    "    scaled_df = scaler.transform(df['309_WIND_1'].to_frame())\n",
    "    scaled_last = scaler.transform(last['309_WIND_1'].to_frame())\n",
    "    scaled_df = np.append(scaled_last, scaled_df)\n",
    "    \n",
    "    \n",
    "    generator2 = TimeseriesGenerator(scaled_df[107:bound+107], scaled_df[107:bound+107], length=107, batch_size=1)\n",
    "                                      \n",
    "    \n",
    "\n",
    "    scaled_df = pd.DataFrame(scaled_df, columns = ['309_WIND_1'])\n",
    "    \n",
    "    lag = lags(scaled_df, 107)\n",
    "    \n",
    "    lag = lag[lag.columns[::-1]]\n",
    "    \n",
    "    #lagged_train = lag.iloc[107:bound+107]\n",
    "    #lagged_test = lag.iloc[bound+107:]\n",
    "\n",
    "    \n",
    "    \n",
    "    #X_test = lagged_test.drop('309_WIND_1', axis = 1).values.tolist()\n",
    "    #Y_test = lagged_test['309_WIND_1'].values.tolist()\n",
    "  \n",
    "    \n",
    "    #model2 = model2Train(generator)\n",
    "    \n",
    "    #Tests = TestModel(X_test, Y_test, model2, scaler)\n",
    "    \n",
    "    \n",
    "    #print(Tests)\n",
    "    \n",
    "   \n",
    "    \n",
    "    #return Tests#, mse2\n",
    "\n",
    "    "
   ]
  },
  {
   "cell_type": "code",
   "execution_count": 14,
   "id": "a84818b0",
   "metadata": {},
   "outputs": [
    {
     "name": "stdout",
     "output_type": "stream",
     "text": [
      "8735\n"
     ]
    }
   ],
   "source": [
    "\n",
    "\n",
    "df1 = df[df.index.month.isin([1,2,3])]\n",
    "df1 = df1.iloc[:-1 , :]\n",
    "print(len(df1))\n",
    "\n",
    "df2 = df[df.index.month.isin([4,5,6])]\n",
    "\n",
    "df3 = df[df.index.month.isin([7,8,9])]\n",
    "\n",
    "df4 = df[df.index.month.isin([10,11,12])]"
   ]
  },
  {
   "cell_type": "code",
   "execution_count": 17,
   "id": "30e29b2e",
   "metadata": {
    "scrolled": true
   },
   "outputs": [
    {
     "name": "stdout",
     "output_type": "stream",
     "text": [
      "(array([[0.71838136, 0.71777563, 0.72410242, 0.721606  , 0.71706133,\n",
      "        0.72575148, 0.7293998 , 0.71823772, 0.73070925, 0.7264797 ,\n",
      "        0.72303793, 0.71739036, 0.72418982, 0.71554866, 0.72486904,\n",
      "        0.72757202, 0.712471  , 0.7243123 , 0.72559726, 0.7265671 ,\n",
      "        0.72895496, 0.7162173 , 0.71907783, 0.729186  , 0.71818148,\n",
      "        0.72545362, 0.7262659 , 0.72581772, 0.7296236 , 0.72476381,\n",
      "        0.726679  , 0.72134654, 0.72042569, 0.72517691, 0.72126247,\n",
      "        0.71325154, 0.71311848, 0.71140984, 0.71332503, 0.706417  ,\n",
      "        0.71731296, 0.7130834 , 0.6538663 , 0.46813059, 0.30145932,\n",
      "        0.1549554 , 0.06989888, 0.05353741, 0.04599915, 0.04696899,\n",
      "        0.04715104, 0.04402439, 0.04168552, 0.04202513, 0.04000138,\n",
      "        0.04412237, 0.06258109, 0.05976955, 0.04545632, 0.04122677,\n",
      "        0.04077859, 0.04679027, 0.05169904, 0.04431834, 0.04008879,\n",
      "        0.04468245, 0.0522697 , 0.06269299, 0.06838955, 0.06116641,\n",
      "        0.07395305, 0.11179133, 0.11370652, 0.19503065, 0.24358284,\n",
      "        0.24518291, 0.24993412, 0.24097785, 0.22178034, 0.14334123,\n",
      "        0.08207589, 0.09533521, 0.08243999, 0.07884067, 0.05160773,\n",
      "        0.04501481, 0.03999747, 0.04128243, 0.04099181, 0.04133142,\n",
      "        0.0410408 , 0.04201064, 0.040302  , 0.04095673, 0.03987832,\n",
      "        0.10066949, 0.10163933, 0.10197894, 0.10121565, 0.10124014,\n",
      "        0.10126464, 0.136582  , 0.21207651, 0.22202712, 0.17116057,\n",
      "        0.18394722, 0.19090424]]), array([0.20243043]))\n"
     ]
    }
   ],
   "source": [
    " mse1 = runModels(df1,df4.iloc[-107:])\n"
   ]
  },
  {
   "cell_type": "code",
   "execution_count": null,
   "id": "c74d542a",
   "metadata": {},
   "outputs": [],
   "source": [
    "mse3 = runModels(df2,df1.iloc[-107:])"
   ]
  },
  {
   "cell_type": "code",
   "execution_count": null,
   "id": "a142dfe0",
   "metadata": {},
   "outputs": [],
   "source": [
    "mse5 = runModels(df3, df2.iloc[-107:])"
   ]
  },
  {
   "cell_type": "code",
   "execution_count": null,
   "id": "a1a4f2a9",
   "metadata": {},
   "outputs": [],
   "source": [
    "mse7 = runModels(df4, df3.iloc[-107:])"
   ]
  },
  {
   "cell_type": "code",
   "execution_count": null,
   "id": "c1df838b",
   "metadata": {},
   "outputs": [],
   "source": [
    "#print('season 1')\n",
    "\n",
    "#print('model 1:')\n",
    "#print(mse1)\n",
    "#print('model Naive:')\n",
    "#print(mse2)\n"
   ]
  },
  {
   "cell_type": "code",
   "execution_count": null,
   "id": "abbff86b",
   "metadata": {},
   "outputs": [],
   "source": [
    "#print('season 1')\n",
    "\n",
    "#print('model 1:')\n",
    "#print(mse3)\n",
    "#print('model Naive:')\n",
    "#print(mse4)\n"
   ]
  },
  {
   "cell_type": "code",
   "execution_count": null,
   "id": "e1d77497",
   "metadata": {},
   "outputs": [],
   "source": [
    "#print('season 1')\n",
    "\n",
    "#print('model 1:')\n",
    "#print(mse5)\n",
    "#print('model Naive:')\n",
    "#print(mse6)\n"
   ]
  },
  {
   "cell_type": "code",
   "execution_count": null,
   "id": "40d88820",
   "metadata": {},
   "outputs": [],
   "source": [
    "#print('season 1')\n",
    "\n",
    "#print('model 1:')\n",
    "#print(mse7)\n",
    "#print('model Naive:')\n",
    "#print(mse8)\n"
   ]
  },
  {
   "cell_type": "code",
   "execution_count": null,
   "id": "3879ae20",
   "metadata": {},
   "outputs": [],
   "source": [
    "#d = {'Season 1':mse2,'Season 2':mse4,'Season 3':mse6,'Season 4':mse8}\n",
    "#df_errors_Naive = pd.DataFrame({k:pd.Series(v) for k,v in d.items()})\n",
    "#d = {'Season1':mse1,'Season2':mse3,'Season3':mse5,'Season4':mse7}\n",
    "#df_errors_LSTM = pd.DataFrame({k:pd.Series(v) for k,v in d.items()})\n",
    "#df_errors_Naive.to_csv('Naive_errors.csv')\n",
    "#df_errors_LSTM.to_csv('LSTM_errors_not_scaled.csv')\n",
    "\n"
   ]
  },
  {
   "cell_type": "code",
   "execution_count": null,
   "id": "66fb6a9c",
   "metadata": {},
   "outputs": [],
   "source": []
  }
 ],
 "metadata": {
  "kernelspec": {
   "display_name": "Python 3 (ipykernel)",
   "language": "python",
   "name": "python3"
  },
  "language_info": {
   "codemirror_mode": {
    "name": "ipython",
    "version": 3
   },
   "file_extension": ".py",
   "mimetype": "text/x-python",
   "name": "python",
   "nbconvert_exporter": "python",
   "pygments_lexer": "ipython3",
   "version": "3.9.0"
  }
 },
 "nbformat": 4,
 "nbformat_minor": 5
}
